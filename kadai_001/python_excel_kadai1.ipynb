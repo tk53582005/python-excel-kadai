{
  "nbformat": 4,
  "nbformat_minor": 0,
  "metadata": {
    "colab": {
      "provenance": []
    },
    "kernelspec": {
      "name": "python3",
      "display_name": "Python 3"
    },
    "language_info": {
      "name": "python"
    }
  },
  "cells": [
    {
      "cell_type": "code",
      "source": [
        "!pip install openpyxl\n",
        "\n",
        "import openpyxl\n",
        "from openpyxl.styles import Font\n",
        "from datetime import datetime\n",
        "\n",
        "workbook = openpyxl.Workbook()\n",
        "sheet = workbook.active\n",
        "\n",
        "today = datetime.today()\n",
        "date_str = today.strftime('%Y%m%d')\n",
        "display_date = today.strftime('%Y/%m/%d')\n",
        "\n",
        "sheet['B2'] = '請求書'\n",
        "\n",
        "sheet['F4'] = 'No.'\n",
        "sheet['G4'] = '0001'\n",
        "sheet['F5'] = '日付'\n",
        "sheet['G5'] = display_date\n",
        "\n",
        "sheet['B4'] = '株式会社ABC'\n",
        "sheet['B5'] = '〒101-0022 東京都千代田区神田練塀町300'\n",
        "sheet['B6'] = 'TEL:03-1234-5678 FAX:03-1234-5678'\n",
        "sheet['B7'] = '担当者名:鈴木一郎 様'\n",
        "\n",
        "sheet['B10'] = '商品名'\n",
        "sheet['C10'] = '数量'\n",
        "sheet['D10'] = '単価'\n",
        "sheet['E10'] = '金額'\n",
        "\n",
        "sheet['B11'] = '商品A'\n",
        "sheet['C11'] = 2\n",
        "sheet['D11'] = 10000\n",
        "sheet['E11'] = 20000\n",
        "\n",
        "sheet['B12'] = '商品B'\n",
        "sheet['C12'] = 1\n",
        "sheet['D12'] = 15000\n",
        "sheet['E12'] = 15000\n",
        "\n",
        "sheet['E13'] = subtotal\n",
        "\n",
        "subtotal = 35000\n",
        "tax = int(subtotal * 0.1)\n",
        "total = subtotal + tax\n",
        "\n",
        "sheet['B15'] = '小計'\n",
        "sheet['E15'] = subtotal\n",
        "\n",
        "sheet['B16'] = '消費税'\n",
        "sheet['E16'] = tax\n",
        "\n",
        "sheet['B17'] = '合計'\n",
        "sheet['E17'] = total\n",
        "\n",
        "filename = f'請求書_{date_str}.xlsx'\n",
        "workbook.save(filename)\n",
        "\n",
        "print(f'請求書が作成されました: {filename}')"
      ],
      "metadata": {
        "colab": {
          "base_uri": "https://localhost:8080/"
        },
        "id": "Klrnvj6QDVC1",
        "outputId": "b21d47e7-6360-40e6-e043-b56311bb4d2e"
      },
      "execution_count": 11,
      "outputs": [
        {
          "output_type": "stream",
          "name": "stdout",
          "text": [
            "Requirement already satisfied: openpyxl in /usr/local/lib/python3.12/dist-packages (3.1.5)\n",
            "Requirement already satisfied: et-xmlfile in /usr/local/lib/python3.12/dist-packages (from openpyxl) (2.0.0)\n",
            "請求書が作成されました: 請求書_20250829.xlsx\n"
          ]
        }
      ]
    }
  ]
}