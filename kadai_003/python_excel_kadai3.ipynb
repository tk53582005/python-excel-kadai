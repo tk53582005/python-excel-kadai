{
  "nbformat": 4,
  "nbformat_minor": 0,
  "metadata": {
    "colab": {
      "provenance": []
    },
    "kernelspec": {
      "name": "python3",
      "display_name": "Python 3"
    },
    "language_info": {
      "name": "python"
    }
  },
  "cells": [
    {
      "cell_type": "code",
      "execution_count": 4,
      "metadata": {
        "colab": {
          "base_uri": "https://localhost:8080/"
        },
        "id": "uTApa73LCcfg",
        "outputId": "742b96c7-d557-4614-de27-76fc13111898"
      },
      "outputs": [
        {
          "output_type": "stream",
          "name": "stdout",
          "text": [
            "Requirement already satisfied: pandas in /usr/local/lib/python3.12/dist-packages (2.2.2)\n",
            "Requirement already satisfied: openpyxl in /usr/local/lib/python3.12/dist-packages (3.1.5)\n",
            "Requirement already satisfied: numpy>=1.26.0 in /usr/local/lib/python3.12/dist-packages (from pandas) (2.0.2)\n",
            "Requirement already satisfied: python-dateutil>=2.8.2 in /usr/local/lib/python3.12/dist-packages (from pandas) (2.9.0.post0)\n",
            "Requirement already satisfied: pytz>=2020.1 in /usr/local/lib/python3.12/dist-packages (from pandas) (2025.2)\n",
            "Requirement already satisfied: tzdata>=2022.7 in /usr/local/lib/python3.12/dist-packages (from pandas) (2025.2)\n",
            "Requirement already satisfied: et-xmlfile in /usr/local/lib/python3.12/dist-packages (from openpyxl) (2.0.0)\n",
            "Requirement already satisfied: six>=1.5 in /usr/local/lib/python3.12/dist-packages (from python-dateutil>=2.8.2->pandas) (1.17.0)\n",
            "売上集計表.xlsxが作成されました\n"
          ]
        }
      ],
      "source": [
        "!pip install pandas openpyxl\n",
        "\n",
        "import pandas as pd\n",
        "import openpyxl\n",
        "from openpyxl.styles import PatternFill\n",
        "\n",
        "file_list = ['2022_年間売上表.xlsx', '2023_年間売上表.xlsx']\n",
        "\n",
        "df_combined = pd.DataFrame()\n",
        "\n",
        "for file_name in file_list:\n",
        "    temp_df = pd.read_excel(file_name, sheet_name='Sheet1')\n",
        "\n",
        "    df_combined = pd.concat([df_combined, temp_df], ignore_index=True)\n",
        "\n",
        "df_grouped = df_combined.groupby(['商品', '売上年'])['金額（千円）'].sum().reset_index()\n",
        "\n",
        "df_grouped.to_excel('売上集計表.xlsx', sheet_name='Sheet1', index=False)\n",
        "\n",
        "workbook = openpyxl.load_workbook('売上集計表.xlsx')\n",
        "sheet = workbook.active\n",
        "\n",
        "gray_fill = PatternFill(patternType='solid', fgColor='F2F2F2')\n",
        "\n",
        "for col in range(1, 4):\n",
        "    cell = sheet.cell(row=1, column=col)\n",
        "    cell.fill = gray_fill\n",
        "\n",
        "workbook.save('売上集計表.xlsx')\n",
        "\n",
        "print('売上集計表.xlsxが作成されました')"
      ]
    }
  ]
}